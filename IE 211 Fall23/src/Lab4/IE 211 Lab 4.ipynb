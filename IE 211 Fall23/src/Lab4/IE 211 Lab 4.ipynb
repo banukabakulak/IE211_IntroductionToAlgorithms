{
  "metadata": {
    "language_info": {
      "codemirror_mode": {
        "name": "python",
        "version": 3
      },
      "file_extension": ".py",
      "mimetype": "text/x-python",
      "name": "python",
      "nbconvert_exporter": "python",
      "pygments_lexer": "ipython3",
      "version": "3.8"
    },
    "kernelspec": {
      "name": "python",
      "display_name": "Python (Pyodide)",
      "language": "python"
    }
  },
  "nbformat_minor": 4,
  "nbformat": 4,
  "cells": [
    {
      "cell_type": "markdown",
      "source": "<h1>The Implementation of Nonmember Search Algorithm ",
      "metadata": {}
    },
    {
      "cell_type": "code",
      "source": "print(\"IE 211 Lab 4 Codes...\")",
      "metadata": {
        "trusted": true
      },
      "execution_count": 4,
      "outputs": [
        {
          "name": "stdout",
          "text": "IE 211 Lab 4 Codes...\n",
          "output_type": "stream"
        }
      ]
    },
    {
      "cell_type": "code",
      "source": "array1 = [13, 21, 36, 48, 42, 15]\narray2 = [10, 12, 13, 14, 15, 16]\n\nprint(\"The first array is\")\nprint(*array1)\n\nprint(\"The second array is\")\nprint(*array2)",
      "metadata": {
        "trusted": true
      },
      "execution_count": 2,
      "outputs": [
        {
          "name": "stdout",
          "text": "The first array is\n13 21 36 48 42 15\nThe second array is\n10 12 13 14 15 16\n",
          "output_type": "stream"
        }
      ]
    },
    {
      "cell_type": "code",
      "source": "class Difference:\n    \n    def __PrintDifferentElements_v1(self, array1, array2):\n        print(\"The default version\")\n        for i in range(len(array1)):\n            isElement = False\n            for j in range(len(array2)):\n                if array1[i] == array2[j]:\n                    isElement = True\n                    break\n            \n            if not isElement:\n                print(array1[i], end = \" \")\n                \n    def __PrintDifferentElements_v2(self, array1, array2):\n        print(\"The alternative version\")\n        i = 0\n        while i < len(array1):\n            for j in range(len(array2)):\n                if array1[i] == array2[j]:\n                    del array1[i]\n                    i = i-1\n                    break\n            i = i + 1\n            \n        print(*array1)\n    \n    def  PrintDifferentElements(self, array1, array2, altVersion = True):\n        if altVersion:\n            self.__PrintDifferentElements_v2(array1, array2)\n        else:\n             self.__PrintDifferentElements_v1(array1, array2)",
      "metadata": {
        "trusted": true
      },
      "execution_count": 26,
      "outputs": []
    },
    {
      "cell_type": "code",
      "source": "myDiff = Difference()\nmyDiff.PrintDifferentElements(array1, array2, False)",
      "metadata": {
        "trusted": true
      },
      "execution_count": 30,
      "outputs": [
        {
          "name": "stdout",
          "text": "The default version\n21 36 48 42 ",
          "output_type": "stream"
        }
      ]
    },
    {
      "cell_type": "code",
      "source": "",
      "metadata": {},
      "execution_count": null,
      "outputs": []
    }
  ]
}